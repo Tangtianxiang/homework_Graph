{
 "cells": [
  {
   "cell_type": "code",
   "execution_count": 1,
   "id": "28216af8",
   "metadata": {},
   "outputs": [],
   "source": [
    "import urllib.request"
   ]
  },
  {
   "cell_type": "code",
   "execution_count": 14,
   "id": "862a6a36",
   "metadata": {},
   "outputs": [],
   "source": [
    "base_user=\"okkomovies\"\n",
    "blogger=urllib.request.urlopen(\"https://www.livejournal.com/misc/fdata.bml?user=\"+base_user).read().decode('utf-8')"
   ]
  },
  {
   "cell_type": "code",
   "execution_count": 15,
   "id": "e1b75553",
   "metadata": {},
   "outputs": [],
   "source": [
    "blogger=blogger.splitlines()\n",
    "BLOGGER=list()\n",
    "FANS=list()"
   ]
  },
  {
   "cell_type": "code",
   "execution_count": 16,
   "id": "c6c6c1b8",
   "metadata": {},
   "outputs": [],
   "source": [
    "for s in blogger:\n",
    "    if len(s)>0 and s[0]=='>':\n",
    "        BLOGGER.append(s[2:])\n",
    "    if len(s)>0 and s[0]=='<':\n",
    "        FANS.append(s[2:])"
   ]
  },
  {
   "cell_type": "code",
   "execution_count": 17,
   "id": "fd8f0963",
   "metadata": {},
   "outputs": [],
   "source": [
    "Re=list()\n",
    "\n",
    "for i in range(len(BLOGGER)):\n",
    "    Re.append(base_user)\n",
    "    Re.append(BLOGGER[i])\n",
    "\n",
    "for i in range(len(FANS)):\n",
    "    Re.append(FANS[i])\n",
    "    Re.append(base_user)"
   ]
  },
  {
   "cell_type": "code",
   "execution_count": 18,
   "id": "7466a0b6",
   "metadata": {},
   "outputs": [],
   "source": [
    "n=len(BLOGGER)\n",
    "\n",
    "for i in range(n):\n",
    "    base_friend=BLOGGER[i]\n",
    "    \n",
    "    if base_friend!=base_user:\n",
    "        #print(base_friend)\n",
    "        Data_friend=urllib.request.urlopen(\"https://www.livejournal.com/misc/fdata.bml?user=\"+base_friend).read().decode('utf-8')\n",
    "    \n",
    "        Data_friend=Data_friend.splitlines()\n",
    "\n",
    "        for s in Data_friend:\n",
    "            if len(s)>0 and s[0]=='>':\n",
    "                Re.append(base_friend)\n",
    "                Re.append(s[2:])"
   ]
  },
  {
   "cell_type": "code",
   "execution_count": 19,
   "id": "aa44b5af",
   "metadata": {},
   "outputs": [],
   "source": [
    "import pandas as pd"
   ]
  },
  {
   "cell_type": "code",
   "execution_count": 20,
   "id": "267fe256",
   "metadata": {},
   "outputs": [],
   "source": [
    "a=[]\n",
    "b=[]\n",
    "\n",
    "for i in range(0,len(Re),2):\n",
    "        a.append(str(Re[i]))\n",
    "        b.append(str(Re[i+1]))"
   ]
  },
  {
   "cell_type": "code",
   "execution_count": 21,
   "id": "a5d7554a",
   "metadata": {},
   "outputs": [],
   "source": [
    "dataframe = pd.DataFrame({'blogger':a,'fan':b})\n",
    "dataframe.to_csv(\"Data_hw_1_9.csv\",index=False,sep=',')"
   ]
  },
  {
   "cell_type": "code",
   "execution_count": 26,
   "id": "25d8bb0e",
   "metadata": {},
   "outputs": [],
   "source": [
    "n=a.count('okkomovies')\n",
    "C_n_2=n*(n-1)/2\n",
    "#print(C_n_2)"
   ]
  },
  {
   "cell_type": "code",
   "execution_count": 27,
   "id": "ab2707aa",
   "metadata": {},
   "outputs": [],
   "source": [
    "base_list=b[0:n-1]\n",
    "sum=0\n",
    "for i in range(len(base_list)):\n",
    "    base_friend=base_list[i]\n",
    "    \n",
    "    Data_friend=urllib.request.urlopen(\"https://www.livejournal.com/misc/fdata.bml?user=\"+base_friend).read().decode('utf-8')\n",
    "    \n",
    "    Data_friend=Data_friend.splitlines()\n",
    "\n",
    "    FRIEND_FOLLOW=list()\n",
    "    \n",
    "    for s in Data_friend:\n",
    "        if len(s)>0 and s[0]=='>':\n",
    "            FRIEND_FOLLOW.append(s[2:])\n",
    "    \n",
    "    m=len(FRIEND_FOLLOW)\n",
    "    n=len(base_list)\n",
    "    \n",
    "    for j in range(m):\n",
    "        for k in range(n):\n",
    "            if FRIEND_FOLLOW[j]==base_list[k]:\n",
    "                sum=sum+1\n",
    "\n",
    "#print(sum)"
   ]
  },
  {
   "cell_type": "code",
   "execution_count": 28,
   "id": "3a36cd5c",
   "metadata": {},
   "outputs": [
    {
     "name": "stdout",
     "output_type": "stream",
     "text": [
      "Коэффициент кластеризации блогера равен = 0.5555555555555556\n"
     ]
    }
   ],
   "source": [
    "print(\"Коэффициент кластеризации блогера равен =\",sum/C_n_2)"
   ]
  }
 ],
 "metadata": {
  "kernelspec": {
   "display_name": "Python 3 (ipykernel)",
   "language": "python",
   "name": "python3"
  },
  "language_info": {
   "codemirror_mode": {
    "name": "ipython",
    "version": 3
   },
   "file_extension": ".py",
   "mimetype": "text/x-python",
   "name": "python",
   "nbconvert_exporter": "python",
   "pygments_lexer": "ipython3",
   "version": "3.9.7"
  }
 },
 "nbformat": 4,
 "nbformat_minor": 5
}
