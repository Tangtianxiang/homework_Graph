{
 "cells": [
  {
   "cell_type": "code",
   "execution_count": 1,
   "id": "407fda23",
   "metadata": {},
   "outputs": [],
   "source": [
    "import matplotlib.pyplot as plt\n",
    "import networkx as nx"
   ]
  },
  {
   "cell_type": "code",
   "execution_count": 2,
   "id": "5bc0e1e3",
   "metadata": {},
   "outputs": [],
   "source": [
    "G = nx.read_edgelist(\"graph.txt\")"
   ]
  },
  {
   "cell_type": "code",
   "execution_count": 3,
   "id": "987eb98e",
   "metadata": {},
   "outputs": [
    {
     "data": {
      "text/plain": [
       "875713"
      ]
     },
     "execution_count": 3,
     "metadata": {},
     "output_type": "execute_result"
    }
   ],
   "source": [
    "G.number_of_nodes()"
   ]
  },
  {
   "cell_type": "code",
   "execution_count": 4,
   "id": "7f22d089",
   "metadata": {},
   "outputs": [
    {
     "data": {
      "text/plain": [
       "4322051"
      ]
     },
     "execution_count": 4,
     "metadata": {},
     "output_type": "execute_result"
    }
   ],
   "source": [
    "G.number_of_edges()"
   ]
  },
  {
   "cell_type": "code",
   "execution_count": 5,
   "id": "0d5402ce",
   "metadata": {},
   "outputs": [
    {
     "data": {
      "text/plain": [
       "2746"
      ]
     },
     "execution_count": 5,
     "metadata": {},
     "output_type": "execute_result"
    }
   ],
   "source": [
    "nx.number_connected_components(G)"
   ]
  },
  {
   "cell_type": "code",
   "execution_count": 7,
   "id": "e5268726",
   "metadata": {},
   "outputs": [],
   "source": [
    "from collections import defaultdict\n",
    "degrees = defaultdict(int)\n",
    "\n",
    "for v in G.nodes():\n",
    "    d = G.degree(v)\n",
    "    degrees[d] += 1"
   ]
  },
  {
   "cell_type": "code",
   "execution_count": 8,
   "id": "d372b31a",
   "metadata": {},
   "outputs": [],
   "source": [
    "x = sorted(degrees.keys())\n",
    "y = [degrees[d] for d in x]"
   ]
  },
  {
   "cell_type": "code",
   "execution_count": 9,
   "id": "53e47f7e",
   "metadata": {},
   "outputs": [
    {
     "data": {
      "image/png": "[encoded data removed]",
      "text/plain": [
       "<Figure size 432x288 with 1 Axes>"
      ]
     },
     "metadata": {
      "needs_background": "light"
     },
     "output_type": "display_data"
    }
   ],
   "source": [
    "plt.loglog(x, y, ls='None', marker='.')\n",
    "plt.show()"
   ]
  },
  {
   "cell_type": "code",
   "execution_count": 14,
   "id": "5dd64884",
   "metadata": {},
   "outputs": [],
   "source": [
    "cd = defaultdict(int)\n",
    "s = 0\n",
    "for d in sorted(degrees.keys(), reverse=True):\n",
    "    s += degrees[d]\n",
    "    cd[d] = s"
   ]
  },
  {
   "cell_type": "code",
   "execution_count": 81,
   "id": "5c527526",
   "metadata": {},
   "outputs": [],
   "source": [
    "x = sorted(cd.keys())\n",
    "y = [cd[d] for d in x]"
   ]
  },
  {
   "cell_type": "code",
   "execution_count": 59,
   "id": "7c292124",
   "metadata": {},
   "outputs": [],
   "source": [
    "from scipy import optimize as op\n",
    "import numpy as np"
   ]
  },
  {
   "cell_type": "code",
   "execution_count": 60,
   "id": "98f2ca37",
   "metadata": {},
   "outputs": [],
   "source": [
    "def fun1(x,gamma,c):\n",
    "    return c/np.power(x,gamma)"
   ]
  },
  {
   "cell_type": "code",
   "execution_count": 79,
   "id": "500255c8",
   "metadata": {},
   "outputs": [],
   "source": [
    "x_new = [i for i in x if i >=1e1 and i<= 1e3]\n",
    "y_new = [cd[d] for d in x]"
   ]
  },
  {
   "cell_type": "code",
   "execution_count": 86,
   "id": "48b8b26d",
   "metadata": {},
   "outputs": [
    {
     "name": "stdout",
     "output_type": "stream",
     "text": [
      "gamma=  1.8056648033363065  c= 19002208.87488043\n"
     ]
    },
    {
     "data": {
      "image/png": "[encoded data removed]",
      "text/plain": [
       "<Figure size 432x288 with 1 Axes>"
      ]
     },
     "metadata": {
      "needs_background": "light"
     },
     "output_type": "display_data"
    }
   ],
   "source": [
    "g, w = op.curve_fit(fun1, x_new, y_new)\n",
    "\n",
    "plt.loglog(x, y, ls='None', marker='.')\n",
    "plt.loglog(x_new, fun1(x_new,g[0],g[1]), 'r--',linewidth=3)\n",
    "\n",
    "print(\"gamma= \",g[0],\" c=\",g[1])"
   ]
  }
 ],
 "metadata": {
  "kernelspec": {
   "display_name": "Python 3 (ipykernel)",
   "language": "python",
   "name": "python3"
  },
  "language_info": {
   "codemirror_mode": {
    "name": "ipython",
    "version": 3
   },
   "file_extension": ".py",
   "mimetype": "text/x-python",
   "name": "python",
   "nbconvert_exporter": "python",
   "pygments_lexer": "ipython3",
   "version": "3.9.7"
  }
 },
 "nbformat": 4,
 "nbformat_minor": 5
}
